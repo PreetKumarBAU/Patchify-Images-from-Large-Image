{
  "nbformat": 4,
  "nbformat_minor": 0,
  "metadata": {
    "colab": {
      "name": "Copy of PatchifyImages.ipynb",
      "provenance": [],
      "collapsed_sections": []
    },
    "kernelspec": {
      "display_name": "Python 3",
      "name": "python3"
    },
    "language_info": {
      "name": "python"
    },
    "accelerator": "GPU"
  },
  "cells": [
    {
      "cell_type": "code",
      "metadata": {
        "colab": {
          "base_uri": "https://localhost:8080/"
        },
        "id": "5696s6I-QLFC",
        "outputId": "5d96ebbe-12b5-4377-fb3e-6b49b90d4579"
      },
      "source": [
        "!pip install patchify\n",
        "\n",
        "import numpy as np\n",
        "import matplotlib.pyplot as plt\n",
        "from patchify import patchify\n",
        "\n",
        "import tifffile as tiff\n",
        "\n",
        "\n"
      ],
      "execution_count": 1,
      "outputs": [
        {
          "output_type": "stream",
          "name": "stdout",
          "text": [
            "Collecting patchify\n",
            "  Downloading patchify-0.2.3-py3-none-any.whl (6.6 kB)\n",
            "Requirement already satisfied: numpy<2,>=1 in /usr/local/lib/python3.7/dist-packages (from patchify) (1.19.5)\n",
            "Installing collected packages: patchify\n",
            "Successfully installed patchify-0.2.3\n"
          ]
        }
      ]
    },
    {
      "cell_type": "code",
      "metadata": {
        "id": "fFWdO2IAckCZ"
      },
      "source": [
        "import cv2\n",
        "#large_image = cv2.imread(\"/content/A_0_0_60550.png\")\n",
        "\n"
      ],
      "execution_count": 2,
      "outputs": []
    },
    {
      "cell_type": "code",
      "metadata": {
        "colab": {
          "base_uri": "https://localhost:8080/"
        },
        "id": "i6COcebPvonf",
        "outputId": "5aa62c66-6a1e-479f-bca1-d2a3d7e885cb"
      },
      "source": [
        "#!wget --no-check-certificate \\https://onedrive.live.com/?authkey=%21AIER5KLidGTK8X8&id=62018CCAE2C1101D%2111166&cid=62018CCAE2C1101D\n",
        "#https://storage.live.com/downloadfiles/V1/Zip?authKey=%21AIER5KLidGTK8X8&application=1141147648\n",
        "#-O /content/filename.zip\n",
        "!unzip \"/content/drive/MyDrive/LargeChagasImages.zip\" -d \"/content/Images\""
      ],
      "execution_count": 6,
      "outputs": [
        {
          "output_type": "stream",
          "name": "stdout",
          "text": [
            "Archive:  /content/drive/MyDrive/LargeChagasImages.zip\n",
            "   creating: /content/Images/LargeChagasImages/\n",
            "  inflating: /content/Images/LargeChagasImages/A_3045_0_60900.png  \n",
            "  inflating: /content/Images/LargeChagasImages/A_3080_0_60900.png  \n",
            "  inflating: /content/Images/LargeChagasImages/A_3115_0_60900.png  \n",
            "  inflating: /content/Images/LargeChagasImages/A_3150_0_60900.png  \n",
            "  inflating: /content/Images/LargeChagasImages/A_3185_0_60900.png  \n",
            "  inflating: /content/Images/LargeChagasImages/A_3220_0_60900.png  \n",
            "  inflating: /content/Images/LargeChagasImages/A_3255_0_60900.png  \n",
            "  inflating: /content/Images/LargeChagasImages/A_3290_0_60900.png  \n",
            "  inflating: /content/Images/LargeChagasImages/A_3325_0_60900.png  \n",
            "  inflating: /content/Images/LargeChagasImages/A_3360_0_60850.png  \n",
            "  inflating: /content/Images/LargeChagasImages/A_3395_0_60850.png  \n",
            "  inflating: /content/Images/LargeChagasImages/A_3430_0_60850.png  \n",
            "  inflating: /content/Images/LargeChagasImages/A_3465_0_60850.png  \n",
            "  inflating: /content/Images/LargeChagasImages/A_3500_0_60850.png  \n",
            "  inflating: /content/Images/LargeChagasImages/A_3535_0_60850.png  \n",
            "  inflating: /content/Images/LargeChagasImages/A_3570_0_60950.png  \n",
            "  inflating: /content/Images/LargeChagasImages/A_3605_0_60950.png  \n",
            "  inflating: /content/Images/LargeChagasImages/A_3640_0_60950.png  \n",
            "  inflating: /content/Images/LargeChagasImages/A_3675_0_60950.png  \n",
            "  inflating: /content/Images/LargeChagasImages/A_3710_0_60950.png  \n",
            "  inflating: /content/Images/LargeChagasImages/A_3745_0_60950.png  \n",
            "  inflating: /content/Images/LargeChagasImages/A_3780_0_60950.png  \n",
            "  inflating: /content/Images/LargeChagasImages/A_3815_0_60950.png  \n",
            "  inflating: /content/Images/LargeChagasImages/A_3850_0_60950.png  \n",
            "  inflating: /content/Images/LargeChagasImages/A_3885_0_60950.png  \n",
            "  inflating: /content/Images/LargeChagasImages/A_3920_0_60950.png  \n",
            "  inflating: /content/Images/LargeChagasImages/A_3955_0_60950.png  \n",
            "  inflating: /content/Images/LargeChagasImages/A_3990_0_61000.png  \n",
            "  inflating: /content/Images/LargeChagasImages/A_4025_0_61000.png  \n",
            "  inflating: /content/Images/LargeChagasImages/A_4060_0_61000.png  \n",
            "  inflating: /content/Images/LargeChagasImages/A_4095_0_61000.png  \n",
            "  inflating: /content/Images/LargeChagasImages/A_4130_0_61000.png  \n",
            "  inflating: /content/Images/LargeChagasImages/A_4165_0_61000.png  \n",
            "  inflating: /content/Images/LargeChagasImages/A_4200_0_61000.png  \n",
            "  inflating: /content/Images/LargeChagasImages/A_4235_0_61000.png  \n",
            "  inflating: /content/Images/LargeChagasImages/A_4270_0_61000.png  \n",
            "  inflating: /content/Images/LargeChagasImages/A_4305_0_61000.png  \n",
            "  inflating: /content/Images/LargeChagasImages/A_4340_0_61000.png  \n",
            "  inflating: /content/Images/LargeChagasImages/A_4375_0_61000.png  \n",
            "  inflating: /content/Images/LargeChagasImages/A_4410_0_61000.png  \n",
            "  inflating: /content/Images/LargeChagasImages/A_4445_0_61000.png  \n",
            "  inflating: /content/Images/LargeChagasImages/A_4480_0_61000.png  \n",
            "  inflating: /content/Images/LargeChagasImages/A_4515_0_61000.png  \n",
            "  inflating: /content/Images/LargeChagasImages/A_4550_0_61000.png  \n",
            "  inflating: /content/Images/LargeChagasImages/A_4585_0_61000.png  \n",
            "  inflating: /content/Images/LargeChagasImages/A_4620_0_61000.png  \n",
            "  inflating: /content/Images/LargeChagasImages/A_4655_0_61000.png  \n",
            "  inflating: /content/Images/LargeChagasImages/A_4690_0_61000.png  \n",
            "  inflating: /content/Images/LargeChagasImages/A_4725_0_61000.png  \n",
            "  inflating: /content/Images/LargeChagasImages/A_4760_0_61000.png  \n",
            "  inflating: /content/Images/LargeChagasImages/A_4795_0_61000.png  \n",
            "  inflating: /content/Images/LargeChagasImages/A_4830_0_61000.png  \n",
            "  inflating: /content/Images/LargeChagasImages/A_4865_0_60900.png  \n",
            "  inflating: /content/Images/LargeChagasImages/A_4900_0_60900.png  \n",
            "  inflating: /content/Images/LargeChagasImages/A_4935_0_60900.png  \n",
            "  inflating: /content/Images/LargeChagasImages/A_4970_0_60900.png  \n",
            "  inflating: /content/Images/LargeChagasImages/A_5005_0_60900.png  \n",
            "  inflating: /content/Images/LargeChagasImages/A_5040_0_60900.png  \n",
            "  inflating: /content/Images/LargeChagasImages/A_5075_0_60900.png  \n",
            "  inflating: /content/Images/LargeChagasImages/A_5110_0_60900.png  \n",
            "  inflating: /content/Images/LargeChagasImages/A_5145_0_60900.png  \n",
            "  inflating: /content/Images/LargeChagasImages/A_5180_0_60900.png  \n",
            "  inflating: /content/Images/LargeChagasImages/A_5215_0_60900.png  \n",
            "  inflating: /content/Images/LargeChagasImages/A_5250_0_60900.png  \n",
            "  inflating: /content/Images/LargeChagasImages/A_5285_0_60900.png  \n",
            "  inflating: /content/Images/LargeChagasImages/A_5320_0_60900.png  \n",
            "  inflating: /content/Images/LargeChagasImages/A_5355_0_60900.png  \n",
            "  inflating: /content/Images/LargeChagasImages/A_5390_0_60850.png  \n",
            "  inflating: /content/Images/LargeChagasImages/A_5425_0_60850.png  \n",
            "  inflating: /content/Images/LargeChagasImages/A_5460_0_60850.png  \n",
            "  inflating: /content/Images/LargeChagasImages/A_5495_0_60850.png  \n",
            "  inflating: /content/Images/LargeChagasImages/A_5530_0_60850.png  \n",
            "  inflating: /content/Images/LargeChagasImages/A_5565_0_60850.png  \n",
            "  inflating: /content/Images/LargeChagasImages/A_5600_0_60850.png  \n",
            "  inflating: /content/Images/LargeChagasImages/A_5635_0_60850.png  \n",
            "  inflating: /content/Images/LargeChagasImages/A_5670_0_60800.png  \n",
            "  inflating: /content/Images/LargeChagasImages/A_5705_0_60800.png  \n",
            "  inflating: /content/Images/LargeChagasImages/A_5740_0_60800.png  \n",
            "  inflating: /content/Images/LargeChagasImages/A_5775_0_60800.png  \n",
            "  inflating: /content/Images/LargeChagasImages/A_5810_0_60800.png  \n",
            "  inflating: /content/Images/LargeChagasImages/A_5845_0_60800.png  \n",
            "  inflating: /content/Images/LargeChagasImages/A_5880_0_60800.png  \n",
            "  inflating: /content/Images/LargeChagasImages/A_5915_0_60800.png  \n",
            "  inflating: /content/Images/LargeChagasImages/A_5950_0_60800.png  \n",
            "  inflating: /content/Images/LargeChagasImages/A_5985_0_60800.png  \n",
            "  inflating: /content/Images/LargeChagasImages/A_6020_0_60800.png  \n",
            "  inflating: /content/Images/LargeChagasImages/A_6055_0_60800.png  \n",
            "  inflating: /content/Images/LargeChagasImages/A_6090_0_60800.png  \n",
            "  inflating: /content/Images/LargeChagasImages/A_6125_0_60800.png  \n",
            "  inflating: /content/Images/LargeChagasImages/A_6160_0_60800.png  \n",
            "  inflating: /content/Images/LargeChagasImages/A_6195_0_60800.png  \n",
            "  inflating: /content/Images/LargeChagasImages/A_6230_0_60800.png  \n",
            "  inflating: /content/Images/LargeChagasImages/A_6265_0_60750.png  \n",
            "  inflating: /content/Images/LargeChagasImages/A_6300_0_60750.png  \n",
            "  inflating: /content/Images/LargeChagasImages/A_6335_0_60750.png  \n",
            "  inflating: /content/Images/LargeChagasImages/A_6370_0_60750.png  \n",
            "  inflating: /content/Images/LargeChagasImages/A_6405_0_60750.png  \n",
            "  inflating: /content/Images/LargeChagasImages/A_6440_0_60750.png  \n",
            "  inflating: /content/Images/LargeChagasImages/A_6475_0_60750.png  \n",
            "  inflating: /content/Images/LargeChagasImages/A_6510_0_60750.png  \n",
            "  inflating: /content/Images/LargeChagasImages/A_6545_0_60650.png  \n",
            "  inflating: /content/Images/LargeChagasImages/A_6580_0_60650.png  \n",
            "  inflating: /content/Images/LargeChagasImages/A_6615_0_60650.png  \n",
            "  inflating: /content/Images/LargeChagasImages/A_6650_0_60650.png  \n",
            "  inflating: /content/Images/LargeChagasImages/A_6685_0_60650.png  \n",
            "  inflating: /content/Images/LargeChagasImages/A_6720_0_60650.png  \n",
            "  inflating: /content/Images/LargeChagasImages/A_6755_0_60650.png  \n",
            "  inflating: /content/Images/LargeChagasImages/A_6790_0_60600.png  \n",
            "  inflating: /content/Images/LargeChagasImages/A_6825_0_60500.png  \n",
            "  inflating: /content/Images/LargeChagasImages/A_6860_0_60500.png  \n",
            "  inflating: /content/Images/LargeChagasImages/A_6895_0_60500.png  \n",
            "  inflating: /content/Images/LargeChagasImages/A_6930_0_60500.png  \n",
            "  inflating: /content/Images/LargeChagasImages/A_6965_0_60500.png  \n",
            "  inflating: /content/Images/LargeChagasImages/A_7000_0_60500.png  \n"
          ]
        }
      ]
    },
    {
      "cell_type": "code",
      "metadata": {
        "colab": {
          "base_uri": "https://localhost:8080/"
        },
        "id": "CMgHja4T60gE",
        "outputId": "164b14b7-d2f9-4578-94f9-4735cb4e4f0a"
      },
      "source": [
        "#/content/Patch_Images\n",
        "len(os.listdir(\"/content/Images/LargeChagasImages\"))"
      ],
      "execution_count": 7,
      "outputs": [
        {
          "output_type": "execute_result",
          "data": {
            "text/plain": [
              "114"
            ]
          },
          "metadata": {},
          "execution_count": 7
        }
      ]
    },
    {
      "cell_type": "code",
      "metadata": {
        "id": "rFqF9KHQdWmL",
        "outputId": "d46b7caa-6e9d-4e4e-c803-0785c7439b9f",
        "colab": {
          "base_uri": "https://localhost:8080/",
          "height": 35
        }
      },
      "source": [
        "os.getcwd()"
      ],
      "execution_count": 25,
      "outputs": [
        {
          "output_type": "execute_result",
          "data": {
            "application/vnd.google.colaboratory.intrinsic+json": {
              "type": "string"
            },
            "text/plain": [
              "'/content'"
            ]
          },
          "metadata": {},
          "execution_count": 25
        }
      ]
    },
    {
      "cell_type": "code",
      "metadata": {
        "id": "D86WNoacdKEH"
      },
      "source": [
        "import os\n",
        "import skimage.io as io\n",
        "import skimage.transform as trans\n",
        "from skimage.io import imsave\n",
        "\n",
        "\n",
        "for image_name in os.listdir(\"/content/Images/LargeChagasImages\"):\n",
        "  large_image = io.imread(os.path.join(\"/content/Images/LargeChagasImages\" ,image_name ) , as_gray = False )\n",
        "\n",
        "  #large_image = cv2.imread(os.path.join(\"/content/Images/LargeChagasImages\" ,image_name ))\n",
        "  patches_img = patchify(large_image , (512, 512 , 3 ) , step = 512)  ## ( 3 , 5 , 1 , 512 , 512 , 3 )\n",
        "\n",
        "  for v_postion in range(patches_img.shape[0]):\n",
        "    for h_position in range(patches_img.shape[1]):\n",
        "\n",
        "      single_patch_img = patches_img[v_postion ,h_position , 0 , : , : ,:]\n",
        "      os.chdir(\"/content/Patched_Images\")\n",
        "      #name = image_name.split(\".\")[0]\n",
        "      imsave('{}_{}_{}.png'.format(name, v_postion , h_position), single_patch_img)\n",
        "      #cv2.imwrite(os.path.join(\"/content/\" ,  str(image_name) , str(v_postion) , str(h_position) ,\".png\"), single_patch_img)\n"
      ],
      "execution_count": 28,
      "outputs": []
    },
    {
      "cell_type": "code",
      "metadata": {
        "id": "RPoN6yolimAC",
        "outputId": "77406eae-03f9-4493-eef6-fe16f6afdc91",
        "colab": {
          "base_uri": "https://localhost:8080/"
        }
      },
      "source": [
        "len(os.listdir(\"/content/Patch_Images\"))\n"
      ],
      "execution_count": 29,
      "outputs": [
        {
          "output_type": "execute_result",
          "data": {
            "text/plain": [
              "1710"
            ]
          },
          "metadata": {},
          "execution_count": 29
        }
      ]
    },
    {
      "cell_type": "code",
      "metadata": {
        "id": "N2iFm6tJZlEF"
      },
      "source": [
        "from google.colab import drive\n",
        "drive.mount('/content/drive')"
      ],
      "execution_count": null,
      "outputs": []
    },
    {
      "cell_type": "code",
      "metadata": {
        "id": "n9GsQlrjOgnG"
      },
      "source": [
        "import shutil\n",
        "shutil.make_archive(\"New_Patched_Images\", 'zip', \"/content/Patch_Images\")"
      ],
      "execution_count": null,
      "outputs": []
    },
    {
      "cell_type": "code",
      "metadata": {
        "id": "9uvaPNJcPbnQ"
      },
      "source": [
        "from google.colab import files\n",
        "files.download(\"/content/New_Patched_Images.zip\") \n"
      ],
      "execution_count": null,
      "outputs": []
    },
    {
      "cell_type": "code",
      "metadata": {
        "id": "LLupsci1i_P6"
      },
      "source": [
        "#patches_img.shape"
      ],
      "execution_count": null,
      "outputs": []
    },
    {
      "cell_type": "code",
      "metadata": {
        "id": "-YF9xYvOjxlD"
      },
      "source": [
        ""
      ],
      "execution_count": null,
      "outputs": []
    },
    {
      "cell_type": "code",
      "metadata": {
        "id": "eUEr_g9Pipj_"
      },
      "source": [
        "#import os\n",
        "#from google.colab.patches import cv2_imshow\n",
        "#for files in os.listdir(\"/content/Image\"):\n",
        "#  cv2_imshow(cv2.imread(os.path.join(\"/content/Image\" , files )) )\n",
        "#  break\n",
        "\n",
        "#cv2_imshow(patches_img[0 , 0 , 0, : , : ,: ])\n"
      ],
      "execution_count": null,
      "outputs": []
    },
    {
      "cell_type": "code",
      "metadata": {
        "id": "ZlYO8G3FpeEv"
      },
      "source": [
        ""
      ],
      "execution_count": null,
      "outputs": []
    }
  ]
}